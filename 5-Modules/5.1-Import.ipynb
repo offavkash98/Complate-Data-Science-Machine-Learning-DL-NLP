{
 "cells": [
  {
   "cell_type": "markdown",
   "metadata": {},
   "source": [
    "### Importing Modules in Python: Modules and Packages\n",
    "In Python, modules and packages help organize and reuse code. Here's a comprehensive guide on how to import them."
   ]
  },
  {
   "cell_type": "code",
   "execution_count": null,
   "metadata": {
    "vscode": {
     "languageId": "plaintext"
    }
   },
   "outputs": [],
   "source": []
  }
 ],
 "metadata": {
  "language_info": {
   "name": "python"
  }
 },
 "nbformat": 4,
 "nbformat_minor": 2
}
