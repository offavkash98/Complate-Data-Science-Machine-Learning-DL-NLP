{
 "cells": [
  {
   "cell_type": "markdown",
   "metadata": {},
   "source": [
    "1. Write a code to reverse a number"
   ]
  },
  {
   "cell_type": "code",
   "execution_count": 3,
   "metadata": {},
   "outputs": [
    {
     "name": "stdout",
     "output_type": "stream",
     "text": [
      "654\n"
     ]
    }
   ],
   "source": [
    "n=int(input(\"Enter a Number\"))\n",
    "rev=0\n",
    "while n>0:\n",
    "    digit=n%10\n",
    "    rev=(rev*10)+digit\n",
    "    n=n//10\n",
    "print(rev)    "
   ]
  },
  {
   "cell_type": "markdown",
   "metadata": {},
   "source": [
    "2. Write the code to find the Fibonacci series upto the nth term."
   ]
  },
  {
   "cell_type": "code",
   "execution_count": 4,
   "metadata": {},
   "outputs": [
    {
     "name": "stdout",
     "output_type": "stream",
     "text": [
      "0 0 1 2 3 5 8 13 21 34 55 89 144 233 377 610 987 1597 2584 4181 6765 10946 17711 28657 46368 75025 121393 196418 317811 514229 "
     ]
    }
   ],
   "source": [
    "n=int(input(\"Enter a Number\"))\n",
    "\n",
    "n1,n2=0,1\n",
    "print(n1,n1,end=' ')\n",
    "for i in range(2,n):\n",
    "    n3=n1+n2\n",
    "    n1=n2\n",
    "    n2=n3\n",
    "    print(n3,end=' ')"
   ]
  },
  {
   "cell_type": "markdown",
   "metadata": {},
   "source": [
    "3. Write code of Greatest Common Divisor "
   ]
  },
  {
   "cell_type": "code",
   "execution_count": 15,
   "metadata": {},
   "outputs": [
    {
     "name": "stdout",
     "output_type": "stream",
     "text": [
      "1\n"
     ]
    }
   ],
   "source": [
    "n1=int(input(\"Enter a Number\"))\n",
    "n2=int(input(\"Enter a Number\"))\n",
    "\n",
    "def gcdfunction(n1,n2):\n",
    "    if n1>n2:\n",
    "        small=n2\n",
    "    else:\n",
    "        small=n1 \n",
    "    for i in range(1,small+1):\n",
    "        if (n1%i==0) and (n2%i==0):\n",
    "            gcd=i \n",
    "    print(gcd)             \n",
    "\n",
    "gcdfunction(n1,n2)        "
   ]
  },
  {
   "cell_type": "markdown",
   "metadata": {},
   "source": [
    "4. Write code of  Perfect number"
   ]
  },
  {
   "cell_type": "code",
   "execution_count": 27,
   "metadata": {},
   "outputs": [
    {
     "name": "stdout",
     "output_type": "stream",
     "text": [
      "Perfect Number\n"
     ]
    }
   ],
   "source": [
    "num=int(input(\"Enter a Number\"))\n",
    "sum=0\n",
    "for i in range(1,num):\n",
    "    if (num%i==0):\n",
    "        sum=sum+i\n",
    "\n",
    "if sum==num:\n",
    "    print(\"Perfect Number\") \n",
    "else:\n",
    "    print(\"Not Perfect Number\")       "
   ]
  },
  {
   "cell_type": "markdown",
   "metadata": {},
   "source": [
    "5. Write code to Check if two strings are Anagram or not"
   ]
  },
  {
   "cell_type": "code",
   "execution_count": null,
   "metadata": {},
   "outputs": [
    {
     "name": "stdout",
     "output_type": "stream",
     "text": [
      "Not a Anagram\n",
      "Not Anagram\n"
     ]
    }
   ],
   "source": [
    "n1=input(\"Enter a string 1\")\n",
    "n2=input(\"Enter a string 1\")\n",
    "\n",
    "if len(n1)!=len(n2):\n",
    "    print(\"Not a Anagram\")\n",
    "else:\n",
    "    n1=sorted(n1)\n",
    "    n2=sorted(n2)\n",
    "\n",
    "if n1==n2:\n",
    "    print('Perfect Anagram')\n",
    "else:\n",
    "    print(\"Not a Anagram\")    "
   ]
  },
  {
   "cell_type": "markdown",
   "metadata": {},
   "source": [
    "6. Write code Check if the given string is Palindrome or not"
   ]
  },
  {
   "cell_type": "code",
   "execution_count": 1,
   "metadata": {},
   "outputs": [
    {
     "name": "stdout",
     "output_type": "stream",
     "text": [
      "'madam' is a palindrome.\n"
     ]
    }
   ],
   "source": [
    "def is_palindrome(s):\n",
    "    s = s.lower().replace(\" \", \"\")\n",
    "    return s == s[::-1]\n",
    "\n",
    "\n",
    "word = \"madam\"\n",
    "if is_palindrome(word):\n",
    "    print(f\"'{word}' is a palindrome.\")\n",
    "else:\n",
    "    print(f\"'{word}' is not a palindrome.\")\n"
   ]
  },
  {
   "cell_type": "code",
   "execution_count": 41,
   "metadata": {},
   "outputs": [
    {
     "name": "stdout",
     "output_type": "stream",
     "text": [
      "Perfect Palindrom\n"
     ]
    }
   ],
   "source": [
    "string=input(\"Enter a String :\")\n",
    "\n",
    "new=string[::-1]\n",
    "if new==string:\n",
    "    print(\"Perfect Palindrom\")\n",
    "else:\n",
    "    print(\"Not a Palindrom\")    "
   ]
  },
  {
   "cell_type": "markdown",
   "metadata": {},
   "source": [
    "Number Palindrom"
   ]
  },
  {
   "cell_type": "code",
   "execution_count": 51,
   "metadata": {},
   "outputs": [
    {
     "name": "stdout",
     "output_type": "stream",
     "text": [
      "Not a Palindrom\n"
     ]
    }
   ],
   "source": [
    "n=int(input(\"Enter a Number\"))\n",
    "temp=n\n",
    "rev=0\n",
    "while n>0:\n",
    "    digit=n%10\n",
    "    rev=(rev*10) + digit\n",
    "    n=n//10\n",
    "if temp==rev:\n",
    "    print(\"Perfect Palindrom\")\n",
    "\n",
    "else:\n",
    "    print(\"Not a Palindrom\")    "
   ]
  },
  {
   "cell_type": "markdown",
   "metadata": {},
   "source": [
    "7. Write code to Calculate frequency of characters in a string"
   ]
  },
  {
   "cell_type": "code",
   "execution_count": 55,
   "metadata": {},
   "outputs": [
    {
     "name": "stdout",
     "output_type": "stream",
     "text": [
      "5\n"
     ]
    }
   ],
   "source": [
    "string = input(\"Enter a String\")\n",
    "\n",
    "chartor = input(\"Enter a Number\")\n",
    "\n",
    "frequency=0\n",
    "frequency=string.count(chartor)\n",
    "print(frequency)"
   ]
  },
  {
   "cell_type": "code",
   "execution_count": null,
   "metadata": {},
   "outputs": [],
   "source": []
  }
 ],
 "metadata": {
  "kernelspec": {
   "display_name": "Python 3",
   "language": "python",
   "name": "python3"
  },
  "language_info": {
   "codemirror_mode": {
    "name": "ipython",
    "version": 3
   },
   "file_extension": ".py",
   "mimetype": "text/x-python",
   "name": "python",
   "nbconvert_exporter": "python",
   "pygments_lexer": "ipython3",
   "version": "3.10.16"
  }
 },
 "nbformat": 4,
 "nbformat_minor": 2
}
