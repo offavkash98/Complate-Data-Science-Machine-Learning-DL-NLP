{
 "cells": [
  {
   "cell_type": "markdown",
   "metadata": {},
   "source": [
    "Excercise 1: Swap the number without using third varible"
   ]
  },
  {
   "cell_type": "code",
   "execution_count": 27,
   "metadata": {},
   "outputs": [
    {
     "name": "stdout",
     "output_type": "stream",
     "text": [
      "5 4\n",
      "4 5\n"
     ]
    }
   ],
   "source": [
    "x=int(input(\"Enter a Number 1:\"))\n",
    "y=int(input(\"Enter a Number 2:\"))\n",
    "\n",
    "print(x,y)\n",
    "\n",
    "x=x+y\n",
    "y=x-y\n",
    "x=x-y\n",
    "\n",
    "print(x,y)\n"
   ]
  },
  {
   "cell_type": "markdown",
   "metadata": {},
   "source": [
    "Exercise 2: Write a Program to extract each digit from an integer in the reverse order.\n",
    "\n",
    "\n",
    "For example, If the given int is 7536, the output shall be “6 3 5 7“, with a space separating the\n",
    "digits.\n"
   ]
  },
  {
   "cell_type": "code",
   "execution_count": 31,
   "metadata": {},
   "outputs": [
    {
     "name": "stdout",
     "output_type": "stream",
     "text": [
      "4321\n",
      "4 3 2 1\n"
     ]
    }
   ],
   "source": [
    "n=input(\"Enter a no :\")\n",
    "\n",
    "i=n[::-1]\n",
    "print(i)\n",
    "\n",
    "k=\" \".join(i)\n",
    "print(k)"
   ]
  },
  {
   "cell_type": "markdown",
   "metadata": {},
   "source": [
    "Excercise 3: Write a program that will give you the sum of 3 digits"
   ]
  },
  {
   "cell_type": "code",
   "execution_count": 35,
   "metadata": {},
   "outputs": [
    {
     "name": "stdout",
     "output_type": "stream",
     "text": [
      "18\n"
     ]
    }
   ],
   "source": [
    "num=int(input(\"Enter a Number\"))\n",
    "\n",
    "a=num%10\n",
    "num1=num//10\n",
    "b=num1%10\n",
    "c=num1//10\n",
    "\n",
    "potput=(a+b+c)\n",
    "print(potput)"
   ]
  },
  {
   "cell_type": "markdown",
   "metadata": {},
   "source": [
    "Excercise 4: Write a program that will reverse a four digit number.Also it checks whether the reverse\n"
   ]
  },
  {
   "cell_type": "code",
   "execution_count": 37,
   "metadata": {},
   "outputs": [
    {
     "name": "stdout",
     "output_type": "stream",
     "text": [
      "4321\n"
     ]
    }
   ],
   "source": [
    "x=int(input(\"Enter the four digit Number\"))\n",
    "\n",
    "a=x%10\n",
    "num1=x//10\n",
    "b=num1%10\n",
    "num2=num1//10\n",
    "c=num2%10\n",
    "d=num2//10\n",
    "\n",
    "rev=a*1000+b*100+c*10+d\n",
    "\n",
    "print(rev)"
   ]
  },
  {
   "cell_type": "markdown",
   "metadata": {},
   "source": [
    "Excercise 5: Write a program to find the euclidean distance between two coordinates.\n"
   ]
  },
  {
   "cell_type": "code",
   "execution_count": null,
   "metadata": {},
   "outputs": [],
   "source": []
  },
  {
   "cell_type": "markdown",
   "metadata": {},
   "source": [
    "Excercise 6: Write a program that will tell whether the given number is divisible by 3 & 6.\n"
   ]
  },
  {
   "cell_type": "code",
   "execution_count": 26,
   "metadata": {},
   "outputs": [
    {
     "name": "stdout",
     "output_type": "stream",
     "text": [
      "Divisibe by 3 and 6\n"
     ]
    }
   ],
   "source": [
    "n=int(input(\"Enter a Number :\"))\n",
    "\n",
    "if n>=0:\n",
    "    if n%3==0 or n%6==0:\n",
    "        print(\"Divisibe by 3 and 6\")\n",
    "\n",
    "    else:\n",
    "        print(\"Not\")    "
   ]
  },
  {
   "cell_type": "markdown",
   "metadata": {},
   "source": [
    "Excercise 7: Write a program that will take three digits from the user and add the square of each\n",
    "digit.\n"
   ]
  },
  {
   "cell_type": "code",
   "execution_count": 23,
   "metadata": {},
   "outputs": [
    {
     "name": "stdout",
     "output_type": "stream",
     "text": [
      "50\n",
      "50\n"
     ]
    }
   ],
   "source": [
    "n= int(input(\"Enter digits\"))\n",
    "\n",
    "a=n%10\n",
    "num=n//10\n",
    "b=num%10\n",
    "c=num//10\n",
    "\n",
    "print(a**2+b**2+c**2)\n",
    "output=(a**2)+(b**2)+(c**2)\n",
    "print(output)"
   ]
  },
  {
   "cell_type": "markdown",
   "metadata": {},
   "source": [
    "Excercise 8: Write a program that will check whether the number is armstrong number or not.\n"
   ]
  },
  {
   "cell_type": "code",
   "execution_count": 19,
   "metadata": {},
   "outputs": [
    {
     "name": "stdout",
     "output_type": "stream",
     "text": [
      "2\n",
      "31\n",
      "1\n",
      "3\n",
      "Below mention No is not Armstron No\n"
     ]
    }
   ],
   "source": [
    "n=int(input(\"Enter no :\"))\n",
    "\n",
    "a=n%10\n",
    "print(a)\n",
    "num=n//10\n",
    "print(num)\n",
    "b=num%10\n",
    "print(b)\n",
    "c=num//10\n",
    "print(num1)\n",
    "\n",
    "if (a**3+b**3+c**3)==n:\n",
    "    print(\"Below mention Number is armstrong number\")\n",
    "else:\n",
    "    print(\"Below mention No is not Armstron No\")    "
   ]
  },
  {
   "cell_type": "markdown",
   "metadata": {},
   "source": [
    "Excercise 9:Write a program that will take user input of (4 digits number) and check whether the\n",
    "number is narcissist number or not.\n",
    "\n",
    "\n",
    "A number that is the sum of its own digits each raised to the power of the number of digits.\n"
   ]
  },
  {
   "cell_type": "code",
   "execution_count": 13,
   "metadata": {},
   "outputs": [
    {
     "name": "stdout",
     "output_type": "stream",
     "text": [
      "4\n",
      "3\n",
      "2\n",
      "1\n",
      "Mention no is not narcessist\n"
     ]
    }
   ],
   "source": [
    "n=int(input(\"Enter four digit no :\"))\n",
    "\n",
    "a=n%10\n",
    "print(a)\n",
    "m=n//10\n",
    "\n",
    "b=m%10\n",
    "print(b)\n",
    "o=m//10\n",
    "\n",
    "c=o%10\n",
    "print(c)\n",
    "d=o//10\n",
    "print(d)\n",
    "\n",
    "if (a**4+b**4+c**4+d**4)==n:\n",
    "    print(\"the no is narcissist\")\n",
    "else:\n",
    "    print(\"Mention no is not narcessist\")    "
   ]
  },
  {
   "cell_type": "markdown",
   "metadata": {},
   "source": []
  },
  {
   "cell_type": "markdown",
   "metadata": {},
   "source": []
  }
 ],
 "metadata": {
  "kernelspec": {
   "display_name": "Python 3",
   "language": "python",
   "name": "python3"
  },
  "language_info": {
   "codemirror_mode": {
    "name": "ipython",
    "version": 3
   },
   "file_extension": ".py",
   "mimetype": "text/x-python",
   "name": "python",
   "nbconvert_exporter": "python",
   "pygments_lexer": "ipython3",
   "version": "3.10.16"
  }
 },
 "nbformat": 4,
 "nbformat_minor": 2
}
