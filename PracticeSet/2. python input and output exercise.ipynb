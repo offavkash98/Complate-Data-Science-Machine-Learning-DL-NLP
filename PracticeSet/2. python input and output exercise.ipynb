{
 "cells": [
  {
   "cell_type": "markdown",
   "metadata": {},
   "source": [
    "Exercise 1: Accept numbers from a user\n"
   ]
  },
  {
   "cell_type": "code",
   "execution_count": 1,
   "metadata": {},
   "outputs": [
    {
     "name": "stdout",
     "output_type": "stream",
     "text": [
      "12\n"
     ]
    }
   ],
   "source": [
    "num=int(input(\"Enter No\"))\n",
    "print(num)"
   ]
  },
  {
   "cell_type": "markdown",
   "metadata": {},
   "source": [
    "Exercise 2: Display three string “Name”, “Is”, “James” as “Name ** Is ** James”\n"
   ]
  },
  {
   "cell_type": "code",
   "execution_count": 2,
   "metadata": {},
   "outputs": [
    {
     "name": "stdout",
     "output_type": "stream",
     "text": [
      "name**age**Avkash\n"
     ]
    }
   ],
   "source": [
    "print(\"name\",'age','Avkash',sep=\"**\")"
   ]
  },
  {
   "cell_type": "markdown",
   "metadata": {},
   "source": [
    "Excercise 5:Print all factors of a given number provided by the user.\n"
   ]
  },
  {
   "cell_type": "code",
   "execution_count": 11,
   "metadata": {},
   "outputs": [
    {
     "name": "stdout",
     "output_type": "stream",
     "text": [
      "1 3 5 9 15 45 "
     ]
    }
   ],
   "source": [
    "n=int(input(\"Enter No\"))\n",
    "\n",
    "for i in range(1,n+1):\n",
    "    if n%i==0:\n",
    "        print(i,end=' ')\n"
   ]
  },
  {
   "cell_type": "markdown",
   "metadata": {},
   "source": [
    "Exercise 6: Accept a list of 5 float numbers as an input from the user\n"
   ]
  },
  {
   "cell_type": "code",
   "execution_count": 13,
   "metadata": {},
   "outputs": [
    {
     "name": "stdout",
     "output_type": "stream",
     "text": [
      "[52.36, 85.69, 84.396, 78.32, 874.3]\n"
     ]
    }
   ],
   "source": [
    "l1=[]\n",
    "\n",
    "while len(l1)<5:\n",
    "    n=float(input(\"Enter no :\"))\n",
    "    l1.append(n)\n",
    "print(l1)    \n",
    "          "
   ]
  },
  {
   "cell_type": "markdown",
   "metadata": {},
   "source": [
    "Exercise 7: Accept any three string from one input() call\n"
   ]
  },
  {
   "cell_type": "code",
   "execution_count": 14,
   "metadata": {},
   "outputs": [
    {
     "name": "stdout",
     "output_type": "stream",
     "text": [
      "avkash\n",
      "khandekara\n",
      "ramesh\n"
     ]
    }
   ],
   "source": [
    "int1=input(\"Enter string\")\n",
    "\n",
    "put=int1.split()\n",
    "\n",
    "new1=put[0]\n",
    "new2=put[1]\n",
    "new3=put[2]\n",
    "\n",
    "print(new1)\n",
    "print(new2)\n",
    "print(new3)"
   ]
  },
  {
   "cell_type": "markdown",
   "metadata": {},
   "source": [
    "Exercise 8: Format variables using a string.format() method.\n",
    "Write a program to use string.format() method to format the following three variables as per the expected\n",
    "output\n"
   ]
  },
  {
   "cell_type": "code",
   "execution_count": 15,
   "metadata": {},
   "outputs": [
    {
     "name": "stdout",
     "output_type": "stream",
     "text": [
      "actaul price is 1200 but 4 you can buy it as 1000\n"
     ]
    }
   ],
   "source": [
    "total_val=1200\n",
    "Quantity=4\n",
    "buy_at=1000\n",
    "\n",
    "print(\"actaul price is {} but {} you can buy it as {}\".format(total_val,Quantity,buy_at))"
   ]
  },
  {
   "cell_type": "markdown",
   "metadata": {},
   "source": [
    "Excercise 9: Write a program to find the simple interest when the value of principle,rate of interest\n",
    "and time period is given.\n"
   ]
  },
  {
   "cell_type": "code",
   "execution_count": 17,
   "metadata": {},
   "outputs": [
    {
     "name": "stdout",
     "output_type": "stream",
     "text": [
      "40200.0\n"
     ]
    }
   ],
   "source": [
    "p=int(input(\"Enter a Number\"))\n",
    "r=int(input(\"Rate\"))\n",
    "t=int(input(\"Time\"))\n",
    "\n",
    "\n",
    "si=p*r*t/100\n",
    "print(si)"
   ]
  },
  {
   "cell_type": "markdown",
   "metadata": {},
   "source": [
    "Excercise 10: Write a program to find the volume of the cylinder. Also find the cost when ,when the\n",
    "cost of 1litre milk is 40Rs.\n"
   ]
  },
  {
   "cell_type": "code",
   "execution_count": 18,
   "metadata": {},
   "outputs": [
    {
     "name": "stdout",
     "output_type": "stream",
     "text": [
      "Volume of cylinder will be  713661.3119999999\n",
      "How much milk we can carry in this cylinder  713.661312 ltr\n",
      "this cost of that milk will be 28546.45248\n"
     ]
    }
   ],
   "source": [
    "rad=float(input(\"enter the radius of cylinder in cm \"))\n",
    "ht=float(input(\"enter the height of cylinder in cm \"))\n",
    "vol=3.142*(rad**2)*ht\n",
    "litr=vol/1000\n",
    "cost=litr*40\n",
    "print(\"Volume of cylinder will be \",vol)\n",
    "print(\"How much milk we can carry in this cylinder \",litr, 'ltr')\n",
    "print(\"this cost of that milk will be\",cost)"
   ]
  },
  {
   "cell_type": "markdown",
   "metadata": {},
   "source": []
  }
 ],
 "metadata": {
  "kernelspec": {
   "display_name": "Python 3",
   "language": "python",
   "name": "python3"
  },
  "language_info": {
   "codemirror_mode": {
    "name": "ipython",
    "version": 3
   },
   "file_extension": ".py",
   "mimetype": "text/x-python",
   "name": "python",
   "nbconvert_exporter": "python",
   "pygments_lexer": "ipython3",
   "version": "3.10.16"
  }
 },
 "nbformat": 4,
 "nbformat_minor": 2
}
