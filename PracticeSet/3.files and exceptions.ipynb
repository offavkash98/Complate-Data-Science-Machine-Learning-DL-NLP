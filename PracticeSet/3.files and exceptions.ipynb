{
 "cells": [
  {
   "cell_type": "markdown",
   "metadata": {},
   "source": [
    "Exercise 1: Check file is empty or not,Write a program to check if the given file is empty or not\n"
   ]
  },
  {
   "cell_type": "code",
   "execution_count": 1,
   "metadata": {},
   "outputs": [
    {
     "name": "stdout",
     "output_type": "stream",
     "text": [
      "file is not empty\n"
     ]
    }
   ],
   "source": [
    "import os\n",
    "size=os.stat(\"data.txt\").st_size\n",
    "if size==0:\n",
    " print(\"file is empty\")\n",
    "else:\n",
    " print(\"file is not empty\")\n"
   ]
  },
  {
   "cell_type": "markdown",
   "metadata": {},
   "source": [
    "Excercise 2:read content from the file"
   ]
  },
  {
   "cell_type": "code",
   "execution_count": 2,
   "metadata": {},
   "outputs": [
    {
     "name": "stdout",
     "output_type": "stream",
     "text": [
      "D:\\DS-Project\\Complate-Data-Science-Machine-Learning-DL-NLP>git push origin main\n",
      "Enumerating objects: 6, done.\n",
      "Counting objects: 100% (6/6), done.\n",
      "Delta compression using up to 8 threads\n",
      "Compressing objects: 100% (4/4), done.\n",
      "Writing objects: 100% (4/4), 1.72 KiB | 1.72 MiB/s, done.\n",
      "Total 4 (delta 1), reused 0 (delta 0), pack-reused 0\n",
      "remote: Resolving deltas: 100% (1/1), completed with 1 local object.\n",
      "To https://github.com/offavkash98/Complete-Python.git\n",
      "   6cffec58..b2f7b73a  main -> main\n"
     ]
    }
   ],
   "source": [
    "normal=\"data.txt\"\n",
    "\n",
    "with open(normal) as obj:\n",
    "    content=obj.read()\n",
    "\n",
    "print(content)    "
   ]
  },
  {
   "cell_type": "markdown",
   "metadata": {},
   "source": [
    "Excercise 3:# read line by line\n"
   ]
  },
  {
   "cell_type": "code",
   "execution_count": 3,
   "metadata": {},
   "outputs": [
    {
     "name": "stdout",
     "output_type": "stream",
     "text": [
      "D:\\DS-Project\\Complate-Data-Science-Machine-Learning-DL-NLP>git push origin main\n",
      "Enumerating objects: 6, done.\n",
      "Counting objects: 100% (6/6), done.\n",
      "Delta compression using up to 8 threads\n",
      "Compressing objects: 100% (4/4), done.\n",
      "Writing objects: 100% (4/4), 1.72 KiB | 1.72 MiB/s, done.\n",
      "Total 4 (delta 1), reused 0 (delta 0), pack-reused 0\n",
      "remote: Resolving deltas: 100% (1/1), completed with 1 local object.\n",
      "To https://github.com/offavkash98/Complete-Python.git\n",
      "   6cffec58..b2f7b73a  main -> main\n"
     ]
    }
   ],
   "source": [
    "normal='data.txt'\n",
    "\n",
    "with open(normal) as obj:\n",
    "    for i in obj:\n",
    "        print(i.rstrip())"
   ]
  },
  {
   "cell_type": "markdown",
   "metadata": {},
   "source": [
    "Excercise 4:now we will learn about writing to the files\n"
   ]
  },
  {
   "cell_type": "code",
   "execution_count": 5,
   "metadata": {},
   "outputs": [],
   "source": [
    "normal='data.txt'\n",
    "\n",
    "with open(normal,'w') as obj:\n",
    "    obj.write(\"my name is Avakash\")\n",
    "\n",
    "with open(normal) as f:\n",
    " lines=f.readlines()    \n"
   ]
  },
  {
   "cell_type": "markdown",
   "metadata": {},
   "source": []
  }
 ],
 "metadata": {
  "kernelspec": {
   "display_name": "Python 3",
   "language": "python",
   "name": "python3"
  },
  "language_info": {
   "codemirror_mode": {
    "name": "ipython",
    "version": 3
   },
   "file_extension": ".py",
   "mimetype": "text/x-python",
   "name": "python",
   "nbconvert_exporter": "python",
   "pygments_lexer": "ipython3",
   "version": "3.10.16"
  }
 },
 "nbformat": 4,
 "nbformat_minor": 2
}
