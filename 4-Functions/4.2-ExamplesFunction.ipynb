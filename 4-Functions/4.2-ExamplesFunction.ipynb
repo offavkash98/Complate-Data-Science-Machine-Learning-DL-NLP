{
 "cells": [
  {
   "cell_type": "markdown",
   "metadata": {},
   "source": [
    "### Function Examples"
   ]
  },
  {
   "cell_type": "markdown",
   "metadata": {},
   "source": [
    "Example 1 : Temperature Conversion"
   ]
  },
  {
   "cell_type": "code",
   "execution_count": 3,
   "metadata": {},
   "outputs": [
    {
     "name": "stdout",
     "output_type": "stream",
     "text": [
      "6.666666666666667\n",
      "77.0\n"
     ]
    }
   ],
   "source": [
    "def temp_convert(temp,unit):\n",
    "    if unit=='C':\n",
    "        return temp *9/5 + 32 ## celsius to Fahrenheit\n",
    "    elif unit=='F':\n",
    "        return (temp-32)*5/9  ## Fahrenheit o celsius\n",
    "    else:\n",
    "        return None    \n",
    "\n",
    "print(temp_convert(44,'F'))\n",
    "print(temp_convert(25,'C'))"
   ]
  },
  {
   "cell_type": "markdown",
   "metadata": {},
   "source": [
    "Example 2 : Password Strength Checker"
   ]
  },
  {
   "cell_type": "code",
   "execution_count": 5,
   "metadata": {},
   "outputs": [
    {
     "name": "stdout",
     "output_type": "stream",
     "text": [
      "True\n",
      "False\n"
     ]
    }
   ],
   "source": [
    "def is_strong_password(password):\n",
    "    if len(password)<8:\n",
    "        return False\n",
    "    if not any(char.isdigit() for char in password):\n",
    "        return False\n",
    "    if not any(char.islower() for char in password):\n",
    "        return False\n",
    "    if not any(char.isupper() for char in password):\n",
    "        return False\n",
    "    if not any(char in '!@#$%^&*()_+' for char in password):\n",
    "        return False\n",
    "    return True\n",
    "\n",
    "## Calling Function \n",
    "print(is_strong_password('Avkash@34'))    \n",
    "print(is_strong_password('Avkas0h34'))  "
   ]
  },
  {
   "cell_type": "markdown",
   "metadata": {},
   "source": [
    "Example 3 : Calculate total cost of items in Shopping Chart "
   ]
  },
  {
   "cell_type": "code",
   "execution_count": 6,
   "metadata": {},
   "outputs": [
    {
     "name": "stdout",
     "output_type": "stream",
     "text": [
      "6.5\n"
     ]
    }
   ],
   "source": [
    "def calculate_total_cost(cart):\n",
    "    total_cost=0\n",
    "    for item in cart:\n",
    "        total_cost+=item['Price']*item['quantity']\n",
    "    return total_cost    \n",
    "\n",
    "# Example Cart Data\n",
    "cart=[{'name':'Apple','Price':0.5,'quantity':4},\n",
    "      {'name':'Banana','Price':0.4,'quantity':6},\n",
    "      {'name':'Orange','Price':0.7,'quantity':3}]\n",
    "\n",
    "\n",
    "## Calling function\n",
    "total_cost=calculate_total_cost(cart)\n",
    "print(total_cost)"
   ]
  },
  {
   "cell_type": "markdown",
   "metadata": {},
   "source": [
    "Example 4 : Check if a String is Palindrome\n"
   ]
  },
  {
   "cell_type": "code",
   "execution_count": 7,
   "metadata": {},
   "outputs": [
    {
     "name": "stdout",
     "output_type": "stream",
     "text": [
      "True\n",
      "False\n"
     ]
    }
   ],
   "source": [
    "def is_palindrome(s):\n",
    "    s=s.lower().replace(\" \",\"\")\n",
    "    return s==s[::-1]\n",
    "\n",
    "\n",
    "print(is_palindrome(\"A man a plan a canal Panama\"))\n",
    "print(is_palindrome(\"Hello\"))"
   ]
  },
  {
   "cell_type": "markdown",
   "metadata": {},
   "source": [
    "Example 5: Calculate Factorial of a Number Using Recursion"
   ]
  },
  {
   "cell_type": "code",
   "execution_count": 9,
   "metadata": {},
   "outputs": [
    {
     "name": "stdout",
     "output_type": "stream",
     "text": [
      "720\n"
     ]
    }
   ],
   "source": [
    "def factorial(n):\n",
    "    if n==0:\n",
    "        return 1\n",
    "    else:\n",
    "        return n * factorial(n-1)\n",
    "    \n",
    "print(factorial(6))    "
   ]
  },
  {
   "cell_type": "markdown",
   "metadata": {},
   "source": [
    "Example 6 : A Function to read a file and count the frequency of each word"
   ]
  },
  {
   "cell_type": "code",
   "execution_count": 12,
   "metadata": {},
   "outputs": [
    {
     "name": "stdout",
     "output_type": "stream",
     "text": [
      "{'if': 1, 'you’re': 1, 'looking': 1, 'to': 3, 'impress': 2, 'your': 4, 'friends': 1, 'kids': 1, 'and': 7, 'family': 1, 'with': 2, 'random': 1, 'fun': 2, 'facts': 2, 'weird': 1, 'wonderful': 1, 'trivia': 1, \"you've\": 1, 'come': 1, 'the': 1, 'right': 1, 'place': 1, 'below': 1, 'you': 2, 'can': 1, 'find': 1, '101': 1, 'interesting': 1, 'that': 1, 'will': 1, 'reshape': 1, 'how': 1, 'see': 1, 'our': 2, 'world': 1, '–': 1, 'far': 2, 'beyond': 1, 'so': 1, 'buckle': 1, 'up': 1, 'prepare': 1, 'amuse': 1, 'children': 1, '(or': 1, 'annoy)': 1, 'co-workers': 1, 'dazzle': 1, 'dinner': 1, 'party': 1, 'guests': 1, 'have': 1, 'own': 1, 'mind': 1, 'blown': 1, 'best': 1, 'collection': 1, 'of': 1, 'extraordinary': 1, 'tidbits': 1}\n"
     ]
    }
   ],
   "source": [
    "def count_each_freq(file_path):\n",
    "    word_count={}\n",
    "    with open(file_path,'r') as file:\n",
    "        for line in file:\n",
    "            words = line.split()\n",
    "            for word in words:\n",
    "                word=word.lower().strip('.,!?;:\"\\'')\n",
    "                word_count[word]=word_count.get(word,0)+1\n",
    "\n",
    "    return word_count\n",
    "\n",
    "file_path='sample.txt'\n",
    "word_frequency=count_each_freq(file_path)\n",
    "print(word_frequency)\n"
   ]
  },
  {
   "cell_type": "markdown",
   "metadata": {},
   "source": [
    "Example 7 : Validate Email Address\n",
    "\n"
   ]
  },
  {
   "cell_type": "code",
   "execution_count": 13,
   "metadata": {},
   "outputs": [
    {
     "name": "stdout",
     "output_type": "stream",
     "text": [
      "True\n",
      "False\n"
     ]
    }
   ],
   "source": [
    "import re\n",
    "\n",
    "# Email validation function\n",
    "def is_valid_email(email):\n",
    "    \"\"\"This function checks if the email is valid.\"\"\"\n",
    "    pattern = r'^[a-zA-Z0-9_.+-]+@[a-zA-Z0-9-]+\\.[a-zA-Z0-9-.]+$'\n",
    "    return re.match(pattern, email) is not None\n",
    "\n",
    "# Calling the function\n",
    "print(is_valid_email(\"test@example.com\"))  # Output: True\n",
    "print(is_valid_email(\"invalid-email\"))  # Output: False"
   ]
  },
  {
   "cell_type": "code",
   "execution_count": null,
   "metadata": {},
   "outputs": [],
   "source": []
  }
 ],
 "metadata": {
  "kernelspec": {
   "display_name": "Python 3",
   "language": "python",
   "name": "python3"
  },
  "language_info": {
   "codemirror_mode": {
    "name": "ipython",
    "version": 3
   },
   "file_extension": ".py",
   "mimetype": "text/x-python",
   "name": "python",
   "nbconvert_exporter": "python",
   "pygments_lexer": "ipython3",
   "version": "3.10.16"
  }
 },
 "nbformat": 4,
 "nbformat_minor": 2
}
