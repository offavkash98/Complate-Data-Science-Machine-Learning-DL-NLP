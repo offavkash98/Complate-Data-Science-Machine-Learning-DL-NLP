{
 "cells": [
  {
   "cell_type": "markdown",
   "metadata": {},
   "source": [
    "### Generators\n",
    "\n",
    "Generators are simple way to create iterators.They Use the yeild keyword to produce series of values lazily, Which means they generate values on the fly and do not store them in memory"
   ]
  },
  {
   "cell_type": "code",
   "execution_count": 1,
   "metadata": {},
   "outputs": [],
   "source": [
    "def square(n):\n",
    "    for i in range(3):\n",
    "        yield i**2"
   ]
  },
  {
   "cell_type": "code",
   "execution_count": 2,
   "metadata": {},
   "outputs": [
    {
     "data": {
      "text/plain": [
       "<generator object square at 0x0000018191CAD3F0>"
      ]
     },
     "execution_count": 2,
     "metadata": {},
     "output_type": "execute_result"
    }
   ],
   "source": [
    "square(3)"
   ]
  },
  {
   "cell_type": "code",
   "execution_count": 3,
   "metadata": {},
   "outputs": [
    {
     "name": "stdout",
     "output_type": "stream",
     "text": [
      "<generator object square at 0x0000018191CADEE0>\n"
     ]
    }
   ],
   "source": [
    "print(square(3))"
   ]
  },
  {
   "cell_type": "code",
   "execution_count": 4,
   "metadata": {},
   "outputs": [],
   "source": [
    "\n",
    "def square(n):\n",
    "    for i in range(3):\n",
    "        yield i**2"
   ]
  },
  {
   "cell_type": "code",
   "execution_count": 5,
   "metadata": {},
   "outputs": [
    {
     "data": {
      "text/plain": [
       "<generator object square at 0x0000018191CAE420>"
      ]
     },
     "execution_count": 5,
     "metadata": {},
     "output_type": "execute_result"
    }
   ],
   "source": [
    "square(3)"
   ]
  },
  {
   "cell_type": "code",
   "execution_count": 6,
   "metadata": {},
   "outputs": [
    {
     "name": "stdout",
     "output_type": "stream",
     "text": [
      "0\n",
      "1\n",
      "4\n"
     ]
    }
   ],
   "source": [
    "for i in square(3):\n",
    "    print(i)"
   ]
  },
  {
   "cell_type": "code",
   "execution_count": 7,
   "metadata": {},
   "outputs": [
    {
     "data": {
      "text/plain": [
       "<generator object square at 0x0000018191CAE570>"
      ]
     },
     "execution_count": 7,
     "metadata": {},
     "output_type": "execute_result"
    }
   ],
   "source": [
    "a=square(3)\n",
    "a"
   ]
  },
  {
   "cell_type": "code",
   "execution_count": 10,
   "metadata": {},
   "outputs": [
    {
     "data": {
      "text/plain": [
       "4"
      ]
     },
     "execution_count": 10,
     "metadata": {},
     "output_type": "execute_result"
    }
   ],
   "source": [
    "next(a)"
   ]
  },
  {
   "cell_type": "code",
   "execution_count": 11,
   "metadata": {},
   "outputs": [],
   "source": [
    "def my_generator():\n",
    "    yield 1\n",
    "    yield 2\n",
    "    yield 3"
   ]
  },
  {
   "cell_type": "code",
   "execution_count": 12,
   "metadata": {},
   "outputs": [
    {
     "data": {
      "text/plain": [
       "<generator object my_generator at 0x0000018191CAE8F0>"
      ]
     },
     "execution_count": 12,
     "metadata": {},
     "output_type": "execute_result"
    }
   ],
   "source": [
    "gen=my_generator()\n",
    "gen"
   ]
  },
  {
   "cell_type": "code",
   "execution_count": 13,
   "metadata": {},
   "outputs": [
    {
     "data": {
      "text/plain": [
       "1"
      ]
     },
     "execution_count": 13,
     "metadata": {},
     "output_type": "execute_result"
    }
   ],
   "source": [
    "next(gen)"
   ]
  },
  {
   "cell_type": "code",
   "execution_count": 14,
   "metadata": {},
   "outputs": [
    {
     "name": "stdout",
     "output_type": "stream",
     "text": [
      "2\n",
      "3\n"
     ]
    }
   ],
   "source": [
    "for val in gen:\n",
    "    print(val)"
   ]
  },
  {
   "cell_type": "markdown",
   "metadata": {},
   "source": [
    "### Practical Example: Reading Large Files\n",
    "Generators are particularly useful for reading large files because they allow you to process one line at a time without loading the entire file into memory."
   ]
  },
  {
   "cell_type": "code",
   "execution_count": 15,
   "metadata": {},
   "outputs": [],
   "source": [
    "## Practical Example : Reading Large Files\n",
    "\n",
    "def read_large_file(file_path):\n",
    "    with open(file_path,'r') as file:\n",
    "        for line in file:\n",
    "            yield line"
   ]
  },
  {
   "cell_type": "code",
   "execution_count": 18,
   "metadata": {},
   "outputs": [
    {
     "name": "stdout",
     "output_type": "stream",
     "text": [
      "The PMO provides secretarial assistance to the Prime Minister. It is headed by the Principal Secretary to the Prime Minister. The PMO includes the anti-corruption unit and the public wing dealing with grievances. The office houses the Prime Minister and few selected officers of Indian Civil Service who work with him to manage and coordinate government and his office. The Prime Minister through his office coordinates with all ministers in the central union cabinet, minister of independent charges and governors and ministers of state government. The PMO is located at the South Block of the Secretariat Building.\n",
      "\n",
      "The subject-matter of files required to be submitted to the Prime Minister depends on whether he is holding direct charge of the Ministry or whether there is a Cabinet Minister or Minister of State (Independent Charge) in charge of the Ministry. In the case of the latter, most matters are dealt with by the Cabinet Minister / Minister of State-in-charge. Only important policy issues, which the Minister concerned feels should be submitted to the Prime Minister for orders or information, are received in the PMO.\n",
      "\n",
      "In cases where the Prime Minister is the Minister-in-charge, matters requiring Ministerial approval which are not delegated to the Minister of State/Deputy Minister, if any, are submitted for orders. The Prime Minister has traditionally been the Minister-in-charge of the Ministry of Personnel, Public Grievances and Pensions and the Departments of Space and Atomic Energy.\n",
      "\n",
      "Some of the important matters that require the Prime Minister's personal attention include the following:\n",
      "\n",
      "Important defence-related issues;\n",
      "Decorations, both civilian and defence, where Presidential approval is required;\n",
      "All important policy issues;\n",
      "Proposals for appointment of Indian Heads of Missions abroad and requests for grant of agreement for foreign Heads of Missions posted to India;\n",
      "All important decisions relating to the Cabinet Secretariat;\n",
      "Appointments to State Administrative Tribunals and the Central Administrative Tribunal, UPSC, Election Commission, Appointment of members of statutory/constitutional Committees, Commissions attached to various Ministries;\n",
      "All policy matters relating to the administration of the Indian Administrative Service and other Civil Services and administrative reforms;\n",
      "Special Packages announced by the Prime Minister for States are monitored in the PMO and periodical reports submitted to Prime Minister; and\n",
      "Parliament Questions\n",
      "Parliament Questions relating to the Ministries and Departments of which Prime Minister is the Minister-in-charge are answered by a Minister of State nominated for the purpose or by Prime Minister himself.\n",
      "\n",
      "PM's Funds\n",
      "The Prime Minister's National Relief Fund (PMNRF) and the National Defence Fund (NDF) are operated directly from the PMO. The Prime Minister's National Relief Fund was established in January 1948 as Trust, by then Prime Minister, Jawaharlal Nehru, with public contributions to assist displaced persons from Pakistan, due to partition of India. In the year 2013–2014, the Fund received donations worth ₹377.04 crore (equivalent to ₹602 crore or US$69 million in 2023).[4]\n",
      "\n",
      "The Office\n",
      "The Prime Minister's Office (PMO) located in South Block, overlooking the grandeur of Rashtrapati Bhawan. Though in the 1990s I.K. Gujral and some of his predecessors, used Prime Minister's Residence (PMR) spread over a 10-acre complex as office.[5] It is sandwiched between the cabinet secretariat on one side and the ministries of external affairs and defence on the other. The 20-room PMO is equipped to provide both infrastructural and manpower support to the nation's chief executive. Hi-tech accessories and sophisticated communication devices were installed to monitor domestic and international developments. [citation needed]\n",
      "\n",
      "Important officers in the PMO\n",
      "Senior officials in the Office of the Prime Minister of India[6]\n",
      "Name[7]\tDesignation\tRank\n",
      "Pramod Kumar Mishra, IAS\tPrincipal Secretary to the Prime Minister of India\tCabinet Minister[8]\n",
      "Shaktikanta Das,IAS\tPrincipal Secretary to the Prime Minister of India\tCabinet Minister[9]\n",
      "Ajit Kumar Doval, IPS, KC[10]\tNational Security Adviser\tCabinet Minister[11]\n",
      "T. V. Somanathan, IAS\tCabinet secretary\tCabinet Secretary[12]\n",
      "Amit Khare, IAS\tAdvisor to the PM\tSecretary to the Government of India\n",
      "Tarun Kapoor, IAS\tAdvisor to the PM\n"
     ]
    }
   ],
   "source": [
    "file_path = 'large_file.txt'\n",
    "\n",
    "for line in read_large_file(file_path):\n",
    "    print(line.strip())"
   ]
  },
  {
   "cell_type": "markdown",
   "metadata": {},
   "source": [
    "### Conclusion\n",
    "Iterators and generators are powerful tools in Python for creating and handling sequences of data efficiently. Iterators provide a way to access elements sequentially, while generators allow you to generate items on the fly, making them particularly useful for handling large datasets and infinite sequences. Understanding these concepts will enable you to write more efficient and memory-conscious Python programs."
   ]
  },
  {
   "cell_type": "markdown",
   "metadata": {},
   "source": []
  }
 ],
 "metadata": {
  "kernelspec": {
   "display_name": "Python 3",
   "language": "python",
   "name": "python3"
  },
  "language_info": {
   "codemirror_mode": {
    "name": "ipython",
    "version": 3
   },
   "file_extension": ".py",
   "mimetype": "text/x-python",
   "name": "python",
   "nbconvert_exporter": "python",
   "pygments_lexer": "ipython3",
   "version": "3.10.16"
  }
 },
 "nbformat": 4,
 "nbformat_minor": 2
}
